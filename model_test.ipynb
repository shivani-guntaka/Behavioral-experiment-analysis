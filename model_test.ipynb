{
  "nbformat": 4,
  "nbformat_minor": 0,
  "metadata": {
    "colab": {
      "provenance": []
    },
    "kernelspec": {
      "name": "python3",
      "display_name": "Python 3"
    },
    "language_info": {
      "name": "python"
    }
  },
  "cells": [
    {
      "cell_type": "code",
      "execution_count": null,
      "metadata": {
        "id": "MsYpOFYvpYm_"
      },
      "outputs": [],
      "source": [
        "import pandas as pd\n",
        "data = pd.read_csv(\"dd.csv\")"
      ]
    },
    {
      "cell_type": "code",
      "source": [
        "print(data)"
      ],
      "metadata": {
        "colab": {
          "base_uri": "https://localhost:8080/"
        },
        "id": "EVq2rNMhs_gY",
        "outputId": "f4f49a76-8946-4739-8b30-246e7741878a"
      },
      "execution_count": null,
      "outputs": [
        {
          "output_type": "stream",
          "name": "stdout",
          "text": [
            "     one  two    dir\n",
            "0      4    5  right\n",
            "1      5    3   left\n",
            "2      2    5  right\n",
            "3      0    3  right\n",
            "4      1    5  right\n",
            "..   ...  ...    ...\n",
            "107    2    7   left\n",
            "108    0    7  right\n",
            "109    3    1  right\n",
            "110    0    1  right\n",
            "111    7    3   left\n",
            "\n",
            "[112 rows x 3 columns]\n"
          ]
        }
      ]
    },
    {
      "cell_type": "code",
      "source": [
        "data = data.dropna()\n",
        "print(data)"
      ],
      "metadata": {
        "colab": {
          "base_uri": "https://localhost:8080/"
        },
        "id": "GfU8ZbOrtDn_",
        "outputId": "8480c782-1883-4ad4-dc36-c7d6aa10f9bc"
      },
      "execution_count": null,
      "outputs": [
        {
          "output_type": "stream",
          "name": "stdout",
          "text": [
            "     one  two    dir\n",
            "0      4    5  right\n",
            "1      5    3   left\n",
            "2      2    5  right\n",
            "3      0    3  right\n",
            "4      1    5  right\n",
            "..   ...  ...    ...\n",
            "107    2    7   left\n",
            "108    0    7  right\n",
            "109    3    1  right\n",
            "110    0    1  right\n",
            "111    7    3   left\n",
            "\n",
            "[112 rows x 3 columns]\n"
          ]
        }
      ]
    },
    {
      "cell_type": "code",
      "source": [
        "values = ['0','1','2','3','4','5','6','7']\n",
        "for a in values:\n",
        "    count=0\n",
        "    pcount=0\n",
        "    for i in range(len(data)):\n",
        "        # print(a==data.iloc[i]['one'])\n",
        "        if int(a) == int(data.iloc[i]['one']) or int(a)==int(data.iloc[i]['two']):\n",
        "            count+=1\n",
        "        if data.iloc[i]['dir']=='left' and int(data.iloc[i]['one'])==int(a):\n",
        "            pcount+=1\n",
        "        elif data.iloc[i]['dir']=='right' and int(data.iloc[i]['two'])==int(a):\n",
        "            pcount+=1\n",
        "        # break\n",
        "    print(pcount,count)"
      ],
      "metadata": {
        "colab": {
          "base_uri": "https://localhost:8080/"
        },
        "id": "uL9J6WEtsxQy",
        "outputId": "38aea6d7-dd93-4bf7-eea1-338e2b181c53"
      },
      "execution_count": null,
      "outputs": [
        {
          "output_type": "stream",
          "name": "stdout",
          "text": [
            "4 28\n",
            "24 28\n",
            "24 28\n",
            "9 28\n",
            "18 28\n",
            "16 28\n",
            "5 28\n",
            "12 28\n"
          ]
        }
      ]
    },
    {
      "cell_type": "code",
      "source": [],
      "metadata": {
        "id": "UFBrP88gXCJ6"
      },
      "execution_count": null,
      "outputs": []
    }
  ]
}
{
  "nbformat": 4,
  "nbformat_minor": 0,
  "metadata": {
    "colab": {
      "provenance": []
    },
    "kernelspec": {
      "name": "python3",
      "display_name": "Python 3"
    },
    "language_info": {
      "name": "python"
    }
  },
  "cells": [
    {
      "cell_type": "code",
      "execution_count": null,
      "metadata": {
        "id": "B8A-JXv2XEd3"
      },
      "outputs": [],
      "source": [
        "import numpy as np\n",
        "import pandas as pd\n",
        "import matplotlib.pyplot as plt"
      ]
    },
    {
      "cell_type": "code",
      "source": [
        "qC=0\n",
        "qU=0\n",
        "alphaC=0.28\n",
        "alphaU = 0.18\n",
        "alpha3 = 0.33"
      ],
      "metadata": {
        "id": "e4D098n-cXcI"
      },
      "execution_count": null,
      "outputs": []
    },
    {
      "cell_type": "code",
      "source": [
        "for i in range(15):\n",
        "  data = pd.read_csv(\"abc\"+str(i)+\".csv\")\n",
        "  print(\"For\",\"abc\"+str(i)+\".csv\")\n",
        "  data=data.dropna()\n",
        "  cases=['cp','pp','cr','pr']\n",
        "  print(\"Absolute:\")  #this is for absolute model\n",
        "  for cas in cases:\n",
        "    qC=0\n",
        "    qU=0\n",
        "    tempdata = data[data['case']==cas]\n",
        "    #print(len(tempdata))\n",
        "    for i in range(len(tempdata)):\n",
        "      if tempdata.iloc[i]['user_choice']=='right': #if the selected option is right then right value is given to rc(rc stands for choosen reward) and left value is given to ru\n",
        "          rc=float(tempdata.iloc[i]['probability2'])  #right value is given to rc\n",
        "          ru=float(tempdata.iloc[i]['probability1'])  #left value is given to ru\n",
        "      else:   #if the selected option is left then left value is given to rc and right value is given to ru\n",
        "          ru=float(tempdata.iloc[i]['probability2'])  #right value is given to ru\n",
        "          rc=float(tempdata.iloc[i]['probability1'])  #left value is given to rc\n",
        "      if(rc<ru): #if choosen option is wrong then the qc and qu value get swaps\n",
        "        qC,qU = qU,qC\n",
        "      deltaC = rc-qC\n",
        "      deltaU = ru-qU\n",
        "      qC = qC + alphaC*deltaC\n",
        "      qU = qU + alphaU*deltaU\n",
        "    print(\"For case =\",cas,\"qC-qU =\",qC-qU)\n",
        "  probs = dict()\n",
        "\n",
        "  probs[1]=0.25\n",
        "  probs[2]=0.75\n",
        "  probs[3]=0.25\n",
        "  probs[4]=0.75\n",
        "  probs[5]=-0.75\n",
        "  probs[6]=-0.25\n",
        "  probs[7]=-0.75\n",
        "  probs[8]=-0.25\n",
        "\n",
        "  cases=['cp','pp','cr','pr']\n",
        "  print(\"Relative:\")    #this is for relative model\n",
        "  for cas in cases:\n",
        "    qC=0\n",
        "    qU=0\n",
        "    V=0\n",
        "    arr=[0,0]\n",
        "    tempdata = data[data['case']==cas]\n",
        "    #print(len(tempdata))\n",
        "    for i in range(len(tempdata)):\n",
        "      if tempdata.iloc[i]['user_choice']=='right':\n",
        "          rc=int(tempdata.iloc[i]['image2'])\n",
        "          ru=int(tempdata.iloc[i]['image1'])\n",
        "      else:\n",
        "          ru=int(tempdata.iloc[i]['image2'])\n",
        "          rc=int(tempdata.iloc[i]['image1'])\n",
        "      if(probs[rc]>probs[ru]):\n",
        "        qC,qU = qU,qC\n",
        "      Rvt = (probs[rc]+probs[ru])/2\n",
        "      deltav = Rvt-V\n",
        "      V = V + alpha3*deltav\n",
        "      deltaC = rc-V-qC\n",
        "      deltaU = ru-V-qU\n",
        "      qC = qC + alphaC*deltaC\n",
        "      qU = qU + alphaU*deltaU\n",
        "    print(\"For case =\",cas,\"qC-qU =\",qC-qU)"
      ],
      "metadata": {
        "id": "vUgWalX3XUm3",
        "colab": {
          "base_uri": "https://localhost:8080/"
        },
        "outputId": "558b96f9-eaec-41d3-ee89-a330ba11f8a1"
      },
      "execution_count": null,
      "outputs": [
        {
          "output_type": "stream",
          "name": "stdout",
          "text": [
            "For abc0.csv\n",
            "Absolute:\n",
            "For case = cp qC-qU = -0.31403468094933973\n",
            "For case = pp qC-qU = 0.31111470411541375\n",
            "For case = cr qC-qU = -0.4235969540627619\n",
            "For case = pr qC-qU = 0.2057124117031638\n",
            "Relative:\n",
            "For case = cp qC-qU = -0.14746096373440842\n",
            "For case = pp qC-qU = 0.17202088066820664\n",
            "For case = cr qC-qU = 0.14405328828038133\n",
            "For case = pr qC-qU = -0.96920732250102\n",
            "For abc1.csv\n",
            "Absolute:\n",
            "For case = cp qC-qU = -0.23443373027499137\n",
            "For case = pp qC-qU = -0.23802475395346534\n",
            "For case = cr qC-qU = -0.5553870159378113\n",
            "For case = pr qC-qU = 0.08872038335048349\n",
            "Relative:\n",
            "For case = cp qC-qU = 0.07845111910718128\n",
            "For case = pp qC-qU = 0.40517410372916984\n",
            "For case = cr qC-qU = -0.08806702013890944\n",
            "For case = pr qC-qU = -0.7622133981727535\n",
            "For abc2.csv\n",
            "Absolute:\n",
            "For case = cp qC-qU = 0.09503194036595242\n",
            "For case = pp qC-qU = 0.056359812643989926\n",
            "For case = cr qC-qU = -0.5187993877229353\n",
            "For case = pr qC-qU = 0.09877735583029207\n",
            "Relative:\n",
            "For case = cp qC-qU = 0.1388142004523294\n",
            "For case = pp qC-qU = 0.4856557025944044\n",
            "For case = cr qC-qU = 0.0910536608635164\n",
            "For case = pr qC-qU = -0.2526455355030044\n",
            "For abc3.csv\n",
            "Absolute:\n",
            "For case = cp qC-qU = -0.02959426463027387\n",
            "For case = pp qC-qU = 0.09825270718546925\n",
            "For case = cr qC-qU = 0.5734485625440603\n",
            "For case = pr qC-qU = 0.10254084359960969\n",
            "Relative:\n",
            "For case = cp qC-qU = 0.646248745087628\n",
            "For case = pp qC-qU = 0.05876475965451977\n",
            "For case = cr qC-qU = -0.008366849949076549\n",
            "For case = pr qC-qU = -0.9999999921095535\n"
          ]
        }
      ]
    }
  ]
}